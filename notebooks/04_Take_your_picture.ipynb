{
 "cells": [
  {
   "cell_type": "code",
   "execution_count": 2,
   "id": "b501476c",
   "metadata": {},
   "outputs": [],
   "source": [
    "import cv2\n",
    "import os"
   ]
  },
  {
   "cell_type": "markdown",
   "id": "1fdac1f2",
   "metadata": {},
   "source": [
    "###### without facial detection"
   ]
  },
  {
   "cell_type": "code",
   "execution_count": 5,
   "id": "0284eefd",
   "metadata": {},
   "outputs": [],
   "source": [
    "def capture_images_from_camera(output_directory):\n",
    "    os.makedirs(output_directory, exist_ok=True)\n",
    "    existing_images = os.listdir(output_directory)\n",
    "    img_counter = len(existing_images)\n",
    "\n",
    "    cam = cv2.VideoCapture(0)\n",
    "\n",
    "    while True:\n",
    "        # capture the frame of the camera\n",
    "        ret, frame = cam.read()\n",
    "\n",
    "        # verify if the frame is captured\n",
    "        if not ret:\n",
    "            print('Error al capturar el frame')\n",
    "            break\n",
    "\n",
    "        # show frame in a window\n",
    "        cv2.imshow('Smile and take your best selfie!!!!', frame)\n",
    "\n",
    "        # Esperar a que se presione una tecla\n",
    "        key = cv2.waitKey(1)\n",
    "\n",
    "        # press 'spacebar' to take a pic\n",
    "        if key == 32:\n",
    "            # name of pic\n",
    "            img_name = f'selfie_{img_counter}.png'\n",
    "            img_path = os.path.join(output_directory, img_name)\n",
    "\n",
    "            # save pic\n",
    "            cv2.imwrite(img_path, frame)\n",
    "            print(f'Imagen guardada en: {img_path}')\n",
    "\n",
    "            # counter increase\n",
    "            img_counter += 1\n",
    "\n",
    "        # press 'q' to exit the loop\n",
    "        if key == ord('q'):\n",
    "            print('Saliendo del programa')\n",
    "            break\n",
    "\n",
    "    # close camera\n",
    "    cam.release()\n",
    "\n",
    "    # close opencv windows\n",
    "    cv2.destroyAllWindows()\n",
    "\n",
    "    content_name = f'selfie_{img_counter-1}.png'\n",
    "    return content_name\n"
   ]
  },
  {
   "cell_type": "code",
   "execution_count": 6,
   "id": "05bc6a0c",
   "metadata": {},
   "outputs": [],
   "source": [
    "output_directory = \"../images/cam_pictures\""
   ]
  },
  {
   "cell_type": "code",
   "execution_count": 7,
   "id": "30f8e740",
   "metadata": {},
   "outputs": [
    {
     "name": "stdout",
     "output_type": "stream",
     "text": [
      "Imagen guardada en: ../images/cam_pictures/selfie_13.png\n",
      "Saliendo del programa\n"
     ]
    },
    {
     "data": {
      "text/plain": [
       "'selfie_13.png'"
      ]
     },
     "execution_count": 7,
     "metadata": {},
     "output_type": "execute_result"
    }
   ],
   "source": [
    "capture_images_from_camera(output_directory)"
   ]
  },
  {
   "cell_type": "markdown",
   "id": "81b6f12a",
   "metadata": {},
   "source": [
    "###### with facial detection"
   ]
  },
  {
   "cell_type": "code",
   "execution_count": null,
   "id": "f0349c87",
   "metadata": {},
   "outputs": [],
   "source": [
    "def capture_images_from_camera_2(output_directory):\n",
    "    os.makedirs(output_directory, exist_ok=True)\n",
    "    existing_images = os.listdir(output_directory)\n",
    "    img_counter = len(existing_images)\n",
    "\n",
    "    # Load the Haar cascade for face detection\n",
    "    face_cascade = cv2.CascadeClassifier(cv2.data.haarcascades + 'haarcascade_frontalface_default.xml')\n",
    "\n",
    "    cam = cv2.VideoCapture(0)\n",
    "\n",
    "    capture_photo = False  # Flag to indicate when to capture a photo\n",
    "\n",
    "    while True:\n",
    "        # Capture the frame from the camera\n",
    "        ret, frame = cam.read()\n",
    "\n",
    "        # Verify if the frame is captured\n",
    "        if not ret:\n",
    "            print('Error al capturar el frame')\n",
    "            break\n",
    "\n",
    "        # Convert the frame to grayscale for face detection\n",
    "        gray = cv2.cvtColor(frame, cv2.COLOR_BGR2GRAY)\n",
    "\n",
    "        # Perform face detection\n",
    "        faces = face_cascade.detectMultiScale(gray, scaleFactor=1.1, minNeighbors=5, minSize=(30, 30))\n",
    "\n",
    "        if capture_photo:\n",
    "            capture_photo = False  # Reset the capture_photo flag\n",
    "\n",
    "            # Save the picture without displaying the green rectangle\n",
    "            img_name = f'selfie_{img_counter}.png'\n",
    "            img_path = os.path.join(output_directory, img_name)\n",
    "            cv2.imwrite(img_path, frame)\n",
    "            print(f'Imagen guardada en: {img_path}')\n",
    "\n",
    "            # Increase the counter\n",
    "            img_counter += 1\n",
    "\n",
    "        else:\n",
    "            # Draw rectangles around the detected faces\n",
    "            for (x, y, w, h) in faces:\n",
    "                cv2.rectangle(frame, (x, y), (x+w, y+h), (0, 255, 0), 2)\n",
    "\n",
    "        # Show the frame in a window\n",
    "        cv2.imshow('Smile and take your best selfie!!!!', frame)\n",
    "\n",
    "        # Wait for a key press\n",
    "        key = cv2.waitKey(1)\n",
    "\n",
    "        # Press 'spacebar' to take a picture\n",
    "        if key == 32:\n",
    "            capture_photo = True  # Set the capture_photo flag to True\n",
    "\n",
    "        # Press 'q' to exit the loop\n",
    "        if key == ord('q'):\n",
    "            print('Saliendo del programa')\n",
    "            break\n",
    "\n",
    "    # Release the camera\n",
    "    cam.release()\n",
    "\n",
    "    # Close OpenCV windows\n",
    "    cv2.destroyAllWindows()\n",
    "\n",
    "    content_name = f'selfie_{img_counter-1}.png'\n",
    "    return content_name\n"
   ]
  },
  {
   "cell_type": "code",
   "execution_count": null,
   "id": "0328bbea",
   "metadata": {},
   "outputs": [],
   "source": []
  }
 ],
 "metadata": {
  "kernelspec": {
   "display_name": "opencv",
   "language": "python",
   "name": "opencv"
  },
  "language_info": {
   "codemirror_mode": {
    "name": "ipython",
    "version": 3
   },
   "file_extension": ".py",
   "mimetype": "text/x-python",
   "name": "python",
   "nbconvert_exporter": "python",
   "pygments_lexer": "ipython3",
   "version": "3.11.3"
  },
  "toc": {
   "base_numbering": 1,
   "nav_menu": {},
   "number_sections": true,
   "sideBar": true,
   "skip_h1_title": false,
   "title_cell": "Table of Contents",
   "title_sidebar": "Contents",
   "toc_cell": false,
   "toc_position": {},
   "toc_section_display": true,
   "toc_window_display": false
  }
 },
 "nbformat": 4,
 "nbformat_minor": 5
}
