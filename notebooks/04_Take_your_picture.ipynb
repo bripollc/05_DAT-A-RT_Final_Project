{
 "cells": [
  {
   "cell_type": "code",
   "execution_count": 2,
   "id": "b501476c",
   "metadata": {},
   "outputs": [],
   "source": [
    "import cv2\n",
    "import os"
   ]
  },
  {
   "cell_type": "code",
   "execution_count": 5,
   "id": "0284eefd",
   "metadata": {},
   "outputs": [],
   "source": [
    "def capture_images_from_camera(output_directory):\n",
    "    os.makedirs(output_directory, exist_ok=True)\n",
    "    existing_images = os.listdir(output_directory)\n",
    "    img_counter = len(existing_images)\n",
    "\n",
    "    cam = cv2.VideoCapture(0)\n",
    "\n",
    "    while True:\n",
    "        # capture the frame of the camera\n",
    "        ret, frame = cam.read()\n",
    "\n",
    "        # verify if the frame is captured\n",
    "        if not ret:\n",
    "            print('Error al capturar el frame')\n",
    "            break\n",
    "\n",
    "        # show frame in a window\n",
    "        cv2.imshow('Smile and take your best selfie!!!!', frame)\n",
    "\n",
    "        # Esperar a que se presione una tecla\n",
    "        key = cv2.waitKey(1)\n",
    "\n",
    "        # press 'spacebar' to take a pic\n",
    "        if key == 32:\n",
    "            # name of pic\n",
    "            img_name = f'selfie_{img_counter}.png'\n",
    "            img_path = os.path.join(output_directory, img_name)\n",
    "\n",
    "            # save pic\n",
    "            cv2.imwrite(img_path, frame)\n",
    "            print(f'Imagen guardada en: {img_path}')\n",
    "\n",
    "            # counter increase\n",
    "            img_counter += 1\n",
    "\n",
    "        # press 'q' to exit the loop\n",
    "        if key == ord('q'):\n",
    "            print('Saliendo del programa')\n",
    "            break\n",
    "\n",
    "    # close camera\n",
    "    cam.release()\n",
    "\n",
    "    # close opencv windows\n",
    "    cv2.destroyAllWindows()\n",
    "\n",
    "    content_name = f'selfie_{img_counter-1}.png'\n",
    "    return content_name\n"
   ]
  },
  {
   "cell_type": "code",
   "execution_count": 6,
   "id": "05bc6a0c",
   "metadata": {},
   "outputs": [],
   "source": [
    "output_directory = \"../images/cam_pictures\""
   ]
  },
  {
   "cell_type": "code",
   "execution_count": 7,
   "id": "30f8e740",
   "metadata": {},
   "outputs": [
    {
     "name": "stdout",
     "output_type": "stream",
     "text": [
      "Imagen guardada en: ../images/cam_pictures/selfie_13.png\n",
      "Saliendo del programa\n"
     ]
    },
    {
     "data": {
      "text/plain": [
       "'selfie_13.png'"
      ]
     },
     "execution_count": 7,
     "metadata": {},
     "output_type": "execute_result"
    }
   ],
   "source": [
    "capture_images_from_camera(output_directory)"
   ]
  },
  {
   "cell_type": "code",
   "execution_count": null,
   "id": "5c0960e9",
   "metadata": {},
   "outputs": [],
   "source": []
  },
  {
   "cell_type": "code",
   "execution_count": null,
   "id": "a53eb98f",
   "metadata": {},
   "outputs": [],
   "source": []
  },
  {
   "cell_type": "code",
   "execution_count": null,
   "id": "f0349c87",
   "metadata": {},
   "outputs": [],
   "source": []
  },
  {
   "cell_type": "code",
   "execution_count": null,
   "id": "0328bbea",
   "metadata": {},
   "outputs": [],
   "source": []
  },
  {
   "cell_type": "code",
   "execution_count": null,
   "id": "5bcb9625",
   "metadata": {},
   "outputs": [],
   "source": []
  },
  {
   "cell_type": "code",
   "execution_count": null,
   "id": "bbc95d0e",
   "metadata": {},
   "outputs": [],
   "source": []
  },
  {
   "cell_type": "code",
   "execution_count": null,
   "id": "ac990afa",
   "metadata": {},
   "outputs": [],
   "source": []
  },
  {
   "cell_type": "code",
   "execution_count": null,
   "id": "5d52998f",
   "metadata": {},
   "outputs": [],
   "source": []
  },
  {
   "cell_type": "code",
   "execution_count": null,
   "id": "777e4fbe",
   "metadata": {},
   "outputs": [],
   "source": []
  },
  {
   "cell_type": "code",
   "execution_count": null,
   "id": "e61e6cbf",
   "metadata": {},
   "outputs": [],
   "source": []
  },
  {
   "cell_type": "code",
   "execution_count": null,
   "id": "f02888b5",
   "metadata": {},
   "outputs": [],
   "source": []
  },
  {
   "cell_type": "code",
   "execution_count": null,
   "id": "674a72f2",
   "metadata": {},
   "outputs": [],
   "source": []
  },
  {
   "cell_type": "markdown",
   "id": "81b6f12a",
   "metadata": {},
   "source": [
    "# DRAFT"
   ]
  },
  {
   "cell_type": "code",
   "execution_count": 2,
   "id": "c793db05",
   "metadata": {},
   "outputs": [],
   "source": [
    "cam = cv2.VideoCapture(0)"
   ]
  },
  {
   "cell_type": "code",
   "execution_count": 3,
   "id": "4195bb72",
   "metadata": {},
   "outputs": [],
   "source": [
    "output_directory = \"../images/cam_pictures\"\n",
    "os.makedirs(output_directory, exist_ok=True)"
   ]
  },
  {
   "cell_type": "code",
   "execution_count": 4,
   "id": "f89a5257",
   "metadata": {},
   "outputs": [],
   "source": [
    "existing_images = os.listdir(output_directory)\n",
    "img_counter = len(existing_images)"
   ]
  },
  {
   "cell_type": "code",
   "execution_count": 5,
   "id": "99c56e0d",
   "metadata": {},
   "outputs": [
    {
     "data": {
      "text/plain": [
       "11"
      ]
     },
     "execution_count": 5,
     "metadata": {},
     "output_type": "execute_result"
    }
   ],
   "source": [
    "img_counter"
   ]
  },
  {
   "cell_type": "code",
   "execution_count": 6,
   "id": "e800a7e6",
   "metadata": {},
   "outputs": [
    {
     "name": "stdout",
     "output_type": "stream",
     "text": [
      "Imagen guardada en: ../images/cam_pictures/selfie_11.png\n",
      "Saliendo del programa\n"
     ]
    }
   ],
   "source": [
    "while True:\n",
    "    # capture the frame of the camera\n",
    "    ret, frame = cam.read()\n",
    "\n",
    "    # verify if the frame is captured\n",
    "    if not ret:\n",
    "        print('Error al capturar el frame')\n",
    "        break\n",
    "\n",
    "    # show frame in a window\n",
    "    cv2.imshow('Smile and take your best selfie!!!!', frame)\n",
    "\n",
    "    # Esperar a que se presione una tecla\n",
    "    key = cv2.waitKey(1)\n",
    "\n",
    "    # press 'spacebar' to take a pic\n",
    "    if key == 32:\n",
    "        # name of pic\n",
    "        img_name = f'selfie_{img_counter}.png'\n",
    "        img_path = os.path.join(output_directory, img_name)\n",
    "\n",
    "        # save pic\n",
    "        cv2.imwrite(img_path, frame)\n",
    "        print(f'Imagen guardada en: {img_path}')\n",
    "\n",
    "        # counter increase\n",
    "        img_counter += 1\n",
    "\n",
    "    # press 'q' to exit the loop\n",
    "    if key == ord('q'):\n",
    "        print('Saliendo del programa')\n",
    "        break\n",
    "\n",
    "# close camera\n",
    "cam.release()\n",
    "\n",
    "# close opencv windows\n",
    "cv2.destroyAllWindows()"
   ]
  },
  {
   "cell_type": "code",
   "execution_count": 1,
   "id": "9d70dd41",
   "metadata": {
    "scrolled": true
   },
   "outputs": [
    {
     "ename": "NameError",
     "evalue": "name 'img_counter' is not defined",
     "output_type": "error",
     "traceback": [
      "\u001b[0;31m---------------------------------------------------------------------------\u001b[0m",
      "\u001b[0;31mNameError\u001b[0m                                 Traceback (most recent call last)",
      "Cell \u001b[0;32mIn[1], line 1\u001b[0m\n\u001b[0;32m----> 1\u001b[0m content_name \u001b[38;5;241m=\u001b[39m \u001b[38;5;124mf\u001b[39m\u001b[38;5;124m'\u001b[39m\u001b[38;5;124mselfie_\u001b[39m\u001b[38;5;132;01m{\u001b[39;00mimg_counter\u001b[38;5;241m-\u001b[39m\u001b[38;5;241m1\u001b[39m\u001b[38;5;132;01m}\u001b[39;00m\u001b[38;5;124m.png\u001b[39m\u001b[38;5;124m'\u001b[39m\n",
      "\u001b[0;31mNameError\u001b[0m: name 'img_counter' is not defined"
     ]
    }
   ],
   "source": [
    "content_name = f'selfie_{img_counter-1}.png'"
   ]
  }
 ],
 "metadata": {
  "kernelspec": {
   "display_name": "opencv",
   "language": "python",
   "name": "opencv"
  },
  "language_info": {
   "codemirror_mode": {
    "name": "ipython",
    "version": 3
   },
   "file_extension": ".py",
   "mimetype": "text/x-python",
   "name": "python",
   "nbconvert_exporter": "python",
   "pygments_lexer": "ipython3",
   "version": "3.11.3"
  },
  "toc": {
   "base_numbering": 1,
   "nav_menu": {},
   "number_sections": true,
   "sideBar": true,
   "skip_h1_title": false,
   "title_cell": "Table of Contents",
   "title_sidebar": "Contents",
   "toc_cell": false,
   "toc_position": {},
   "toc_section_display": true,
   "toc_window_display": false
  }
 },
 "nbformat": 4,
 "nbformat_minor": 5
}
