{
 "cells": [
  {
   "cell_type": "code",
   "execution_count": 4,
   "id": "b501476c",
   "metadata": {},
   "outputs": [],
   "source": [
    "import cv2\n",
    "import os"
   ]
  },
  {
   "cell_type": "code",
   "execution_count": 5,
   "id": "0284eefd",
   "metadata": {},
   "outputs": [],
   "source": [
    "def capture_images_from_camera(output_directory):\n",
    "    os.makedirs(output_directory, exist_ok=True)\n",
    "    existing_images = os.listdir(output_directory)\n",
    "    img_counter = len(existing_images)\n",
    "\n",
    "    cam = cv2.VideoCapture(0)\n",
    "\n",
    "    while True:\n",
    "        # capture the frame of the camera\n",
    "        ret, frame = cam.read()\n",
    "\n",
    "        # verify if the frame is captured\n",
    "        if not ret:\n",
    "            print('Error al capturar el frame')\n",
    "            break\n",
    "\n",
    "        # show frame in a window\n",
    "        cv2.imshow('Smile and take your best selfie!!!!', frame)\n",
    "\n",
    "        # Esperar a que se presione una tecla\n",
    "        key = cv2.waitKey(1)\n",
    "\n",
    "        # press 'spacebar' to take a pic\n",
    "        if key == 32:\n",
    "            # name of pic\n",
    "            img_name = f'selfie_{img_counter}.png'\n",
    "            img_path = os.path.join(output_directory, img_name)\n",
    "\n",
    "            # save pic\n",
    "            cv2.imwrite(img_path, frame)\n",
    "            print(f'Imagen guardada en: {img_path}')\n",
    "\n",
    "            # counter increase\n",
    "            img_counter += 1\n",
    "\n",
    "        # press 'q' to exit the loop\n",
    "        if key == ord('q'):\n",
    "            print('Saliendo del programa')\n",
    "            break\n",
    "\n",
    "    # close camera\n",
    "    cam.release()\n",
    "\n",
    "    # close opencv windows\n",
    "    cv2.destroyAllWindows()\n",
    "\n",
    "    content_name = f'selfie_{img_counter-1}.png'\n",
    "    return content_name\n"
   ]
  },
  {
   "cell_type": "code",
   "execution_count": 7,
   "id": "30f8e740",
   "metadata": {},
   "outputs": [
    {
     "name": "stdout",
     "output_type": "stream",
     "text": [
      "Imagen guardada en: ../images/cam_pictures/selfie_13.png\n",
      "Saliendo del programa\n"
     ]
    },
    {
     "data": {
      "text/plain": [
       "'selfie_13.png'"
      ]
     },
     "execution_count": 7,
     "metadata": {},
     "output_type": "execute_result"
    }
   ],
   "source": [
    "capture_images_from_camera(output_directory)"
   ]
  },
  {
   "cell_type": "code",
   "execution_count": 2,
   "id": "05bc6a0c",
   "metadata": {},
   "outputs": [],
   "source": [
    "output_directory = \"../images/cam_pictures\""
   ]
  },
  {
   "cell_type": "code",
   "execution_count": 3,
   "id": "5c0960e9",
   "metadata": {},
   "outputs": [],
   "source": [
    "import os\n",
    "import cv2\n",
    "\n",
    "def capture_images_from_camera_2(output_directory):\n",
    "    os.makedirs(output_directory, exist_ok=True)\n",
    "    existing_images = os.listdir(output_directory)\n",
    "    img_counter = len(existing_images)\n",
    "\n",
    "    # Load the Haar cascade for face detection\n",
    "    face_cascade = cv2.CascadeClassifier(cv2.data.haarcascades + 'haarcascade_frontalface_default.xml')\n",
    "\n",
    "    cam = cv2.VideoCapture(0)\n",
    "\n",
    "    capture_photo = False  # Flag to indicate when to capture a photo\n",
    "\n",
    "    while True:\n",
    "        # Capture the frame from the camera\n",
    "        ret, frame = cam.read()\n",
    "\n",
    "        # Verify if the frame is captured\n",
    "        if not ret:\n",
    "            print('Error al capturar el frame')\n",
    "            break\n",
    "\n",
    "        # Convert the frame to grayscale for face detection\n",
    "        gray = cv2.cvtColor(frame, cv2.COLOR_BGR2GRAY)\n",
    "\n",
    "        # Perform face detection\n",
    "        faces = face_cascade.detectMultiScale(gray, scaleFactor=1.1, minNeighbors=5, minSize=(30, 30))\n",
    "\n",
    "        if capture_photo:\n",
    "            capture_photo = False  # Reset the capture_photo flag\n",
    "\n",
    "            # Save the picture without displaying the green rectangle\n",
    "            img_name = f'selfie_{img_counter}.png'\n",
    "            img_path = os.path.join(output_directory, img_name)\n",
    "            cv2.imwrite(img_path, frame)\n",
    "            print(f'Imagen guardada en: {img_path}')\n",
    "\n",
    "            # Increase the counter\n",
    "            img_counter += 1\n",
    "\n",
    "        else:\n",
    "            # Draw rectangles around the detected faces\n",
    "            for (x, y, w, h) in faces:\n",
    "                cv2.rectangle(frame, (x, y), (x+w, y+h), (0, 255, 0), 2)\n",
    "\n",
    "        # Show the frame in a window\n",
    "        cv2.imshow('Smile and take your best selfie!!!!', frame)\n",
    "\n",
    "        # Wait for a key press\n",
    "        key = cv2.waitKey(1)\n",
    "\n",
    "        # Press 'spacebar' to take a picture\n",
    "        if key == 32:\n",
    "            capture_photo = True  # Set the capture_photo flag to True\n",
    "\n",
    "        # Press 'q' to exit the loop\n",
    "        if key == ord('q'):\n",
    "            print('Saliendo del programa')\n",
    "            break\n",
    "\n",
    "    # Release the camera\n",
    "    cam.release()\n",
    "\n",
    "    # Close OpenCV windows\n",
    "    cv2.destroyAllWindows()\n",
    "\n",
    "    content_name = f'selfie_{img_counter-1}.png'\n",
    "    return content_name\n"
   ]
  },
  {
   "cell_type": "code",
   "execution_count": 4,
   "id": "a53eb98f",
   "metadata": {},
   "outputs": [
    {
     "name": "stdout",
     "output_type": "stream",
     "text": [
      "Imagen guardada en: ../images/cam_pictures/selfie_24.png\n",
      "Imagen guardada en: ../images/cam_pictures/selfie_25.png\n",
      "Saliendo del programa\n"
     ]
    },
    {
     "data": {
      "text/plain": [
       "'selfie_25.png'"
      ]
     },
     "execution_count": 4,
     "metadata": {},
     "output_type": "execute_result"
    }
   ],
   "source": [
    "capture_images_from_camera_2(output_directory)"
   ]
  },
  {
   "cell_type": "code",
   "execution_count": null,
   "id": "f0349c87",
   "metadata": {},
   "outputs": [],
   "source": []
  },
  {
   "cell_type": "code",
   "execution_count": null,
   "id": "0328bbea",
   "metadata": {},
   "outputs": [],
   "source": []
  },
  {
   "cell_type": "code",
   "execution_count": null,
   "id": "5bcb9625",
   "metadata": {},
   "outputs": [],
   "source": []
  },
  {
   "cell_type": "code",
   "execution_count": null,
   "id": "bbc95d0e",
   "metadata": {},
   "outputs": [],
   "source": []
  },
  {
   "cell_type": "code",
   "execution_count": null,
   "id": "ac990afa",
   "metadata": {},
   "outputs": [],
   "source": []
  },
  {
   "cell_type": "code",
   "execution_count": null,
   "id": "5d52998f",
   "metadata": {},
   "outputs": [],
   "source": []
  },
  {
   "cell_type": "code",
   "execution_count": null,
   "id": "777e4fbe",
   "metadata": {},
   "outputs": [],
   "source": []
  },
  {
   "cell_type": "code",
   "execution_count": null,
   "id": "e61e6cbf",
   "metadata": {},
   "outputs": [],
   "source": []
  },
  {
   "cell_type": "code",
   "execution_count": 1,
   "id": "9e8175e3",
   "metadata": {},
   "outputs": [],
   "source": [
    "import os\n",
    "import cv2\n",
    "import PySimpleGUI as sg\n",
    "\n",
    "def capture_images_from_camera_3(output_directory):\n",
    "    os.makedirs(output_directory, exist_ok=True)\n",
    "    existing_images = os.listdir(output_directory)\n",
    "    img_counter = len(existing_images)\n",
    "\n",
    "    # Load the Haar cascade for face detection\n",
    "    face_cascade = cv2.CascadeClassifier(cv2.data.haarcascades + 'haarcascade_frontalface_default.xml')\n",
    "\n",
    "    cam = cv2.VideoCapture(0)\n",
    "\n",
    "    capture_photo = False  # Flag to indicate when to capture a photo\n",
    "\n",
    "    layout = [\n",
    "        [sg.Button('Movement', key='movement', size=(10, 1)), sg.Button('Artist', key='artist', size=(10, 1)), sg.Button('Take Picture', key='take_picture', size=(10, 1))]\n",
    "    ]\n",
    "\n",
    "    window = sg.Window('Smile and take your best selfie!!!!', layout)\n",
    "\n",
    "    while True:\n",
    "        event, values = window.read()\n",
    "\n",
    "        if event == sg.WINDOW_CLOSED:\n",
    "            break\n",
    "\n",
    "        if event == 'take_picture':\n",
    "            capture_photo = True\n",
    "\n",
    "        if event == 'movement':\n",
    "            print(\"Movement button pressed\")\n",
    "            # Perform the desired action for the \"Movement\" button\n",
    "\n",
    "        if event == 'artist':\n",
    "            print(\"Artist button pressed\")\n",
    "            # Perform the desired action for the \"Artist\" button\n",
    "\n",
    "        # Capture the frame from the camera\n",
    "        ret, frame = cam.read()\n",
    "\n",
    "        # Verify if the frame is captured\n",
    "        if not ret:\n",
    "            print('Error al capturar el frame')\n",
    "            break\n",
    "\n",
    "        # Convert the frame to grayscale for face detection\n",
    "        gray = cv2.cvtColor(frame, cv2.COLOR_BGR2GRAY)\n",
    "\n",
    "        # Perform face detection\n",
    "        faces = face_cascade.detectMultiScale(gray, scaleFactor=1.1, minNeighbors=5, minSize=(30, 30))\n",
    "\n",
    "        if capture_photo:\n",
    "            capture_photo = False  # Reset the capture_photo flag\n",
    "\n",
    "            # Save the picture without displaying the green rectangle\n",
    "            img_name = f'selfie_{img_counter}.png'\n",
    "            img_path = os.path.join(output_directory, img_name)\n",
    "            cv2.imwrite(img_path, frame)\n",
    "            print(f'Imagen guardada en: {img_path}')\n",
    "\n",
    "            # Increase the counter\n",
    "            img_counter += 1\n",
    "\n",
    "        else:\n",
    "            # Draw rectangles around the detected faces\n",
    "            for (x, y, w, h) in faces:\n",
    "                cv2.rectangle(frame, (x, y), (x+w, y+h), (0, 255, 0), 2)\n",
    "\n",
    "        # Show the frame in a window\n",
    "        cv2.imshow('Smile and take your best selfie!!!!', frame)\n",
    "\n",
    "        # Wait for a key press\n",
    "        key = cv2.waitKey(1)\n",
    "\n",
    "        # Press 'q' to exit the loop\n",
    "        if key == ord('q'):\n",
    "            print('Saliendo del programa')\n",
    "            break\n",
    "\n",
    "    # Release the camera\n",
    "    cam.release()\n",
    "\n",
    "    # Close OpenCV windows\n",
    "    cv2.destroyAllWindows()\n",
    "\n",
    "    content_name = f'selfie_{img_counter-1}.png'\n",
    "    return content_name\n",
    "\n"
   ]
  },
  {
   "cell_type": "code",
   "execution_count": 2,
   "id": "7ee127b2",
   "metadata": {},
   "outputs": [],
   "source": [
    "output_directory = \"../images/cam_pictures\""
   ]
  },
  {
   "cell_type": "code",
   "execution_count": null,
   "id": "f02888b5",
   "metadata": {},
   "outputs": [
    {
     "name": "stdout",
     "output_type": "stream",
     "text": [
      "Imagen guardada en: ../images/cam_pictures/selfie_23.png\n"
     ]
    }
   ],
   "source": [
    "capture_images_from_camera_3(output_directory)"
   ]
  },
  {
   "cell_type": "code",
   "execution_count": null,
   "id": "674a72f2",
   "metadata": {},
   "outputs": [],
   "source": []
  },
  {
   "cell_type": "markdown",
   "id": "81b6f12a",
   "metadata": {},
   "source": [
    "# DRAFT"
   ]
  },
  {
   "cell_type": "code",
   "execution_count": 2,
   "id": "c793db05",
   "metadata": {},
   "outputs": [],
   "source": [
    "cam = cv2.VideoCapture(0)"
   ]
  },
  {
   "cell_type": "code",
   "execution_count": 3,
   "id": "4195bb72",
   "metadata": {},
   "outputs": [],
   "source": [
    "output_directory = \"../images/cam_pictures\"\n",
    "os.makedirs(output_directory, exist_ok=True)"
   ]
  },
  {
   "cell_type": "code",
   "execution_count": 4,
   "id": "f89a5257",
   "metadata": {},
   "outputs": [],
   "source": [
    "existing_images = os.listdir(output_directory)\n",
    "img_counter = len(existing_images)"
   ]
  },
  {
   "cell_type": "code",
   "execution_count": 5,
   "id": "99c56e0d",
   "metadata": {},
   "outputs": [
    {
     "data": {
      "text/plain": [
       "11"
      ]
     },
     "execution_count": 5,
     "metadata": {},
     "output_type": "execute_result"
    }
   ],
   "source": [
    "img_counter"
   ]
  },
  {
   "cell_type": "code",
   "execution_count": 6,
   "id": "e800a7e6",
   "metadata": {},
   "outputs": [
    {
     "name": "stdout",
     "output_type": "stream",
     "text": [
      "Imagen guardada en: ../images/cam_pictures/selfie_11.png\n",
      "Saliendo del programa\n"
     ]
    }
   ],
   "source": [
    "while True:\n",
    "    # capture the frame of the camera\n",
    "    ret, frame = cam.read()\n",
    "\n",
    "    # verify if the frame is captured\n",
    "    if not ret:\n",
    "        print('Error al capturar el frame')\n",
    "        break\n",
    "\n",
    "    # show frame in a window\n",
    "    cv2.imshow('Smile and take your best selfie!!!!', frame)\n",
    "\n",
    "    # Esperar a que se presione una tecla\n",
    "    key = cv2.waitKey(1)\n",
    "\n",
    "    # press 'spacebar' to take a pic\n",
    "    if key == 32:\n",
    "        # name of pic\n",
    "        img_name = f'selfie_{img_counter}.png'\n",
    "        img_path = os.path.join(output_directory, img_name)\n",
    "\n",
    "        # save pic\n",
    "        cv2.imwrite(img_path, frame)\n",
    "        print(f'Imagen guardada en: {img_path}')\n",
    "\n",
    "        # counter increase\n",
    "        img_counter += 1\n",
    "\n",
    "    # press 'q' to exit the loop\n",
    "    if key == ord('q'):\n",
    "        print('Saliendo del programa')\n",
    "        break\n",
    "\n",
    "# close camera\n",
    "cam.release()\n",
    "\n",
    "# close opencv windows\n",
    "cv2.destroyAllWindows()"
   ]
  },
  {
   "cell_type": "code",
   "execution_count": 1,
   "id": "9d70dd41",
   "metadata": {
    "scrolled": true
   },
   "outputs": [
    {
     "ename": "NameError",
     "evalue": "name 'img_counter' is not defined",
     "output_type": "error",
     "traceback": [
      "\u001b[0;31m---------------------------------------------------------------------------\u001b[0m",
      "\u001b[0;31mNameError\u001b[0m                                 Traceback (most recent call last)",
      "Cell \u001b[0;32mIn[1], line 1\u001b[0m\n\u001b[0;32m----> 1\u001b[0m content_name \u001b[38;5;241m=\u001b[39m \u001b[38;5;124mf\u001b[39m\u001b[38;5;124m'\u001b[39m\u001b[38;5;124mselfie_\u001b[39m\u001b[38;5;132;01m{\u001b[39;00mimg_counter\u001b[38;5;241m-\u001b[39m\u001b[38;5;241m1\u001b[39m\u001b[38;5;132;01m}\u001b[39;00m\u001b[38;5;124m.png\u001b[39m\u001b[38;5;124m'\u001b[39m\n",
      "\u001b[0;31mNameError\u001b[0m: name 'img_counter' is not defined"
     ]
    }
   ],
   "source": [
    "content_name = f'selfie_{img_counter-1}.png'"
   ]
  },
  {
   "cell_type": "code",
   "execution_count": null,
   "id": "d8f0399e",
   "metadata": {},
   "outputs": [],
   "source": []
  }
 ],
 "metadata": {
  "kernelspec": {
   "display_name": "opencv",
   "language": "python",
   "name": "opencv"
  },
  "language_info": {
   "codemirror_mode": {
    "name": "ipython",
    "version": 3
   },
   "file_extension": ".py",
   "mimetype": "text/x-python",
   "name": "python",
   "nbconvert_exporter": "python",
   "pygments_lexer": "ipython3",
   "version": "3.11.3"
  },
  "toc": {
   "base_numbering": 1,
   "nav_menu": {},
   "number_sections": true,
   "sideBar": true,
   "skip_h1_title": false,
   "title_cell": "Table of Contents",
   "title_sidebar": "Contents",
   "toc_cell": false,
   "toc_position": {},
   "toc_section_display": true,
   "toc_window_display": false
  }
 },
 "nbformat": 4,
 "nbformat_minor": 5
}
