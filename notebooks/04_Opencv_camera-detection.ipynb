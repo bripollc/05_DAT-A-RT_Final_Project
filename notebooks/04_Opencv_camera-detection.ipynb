{
 "cells": [
  {
   "cell_type": "code",
   "execution_count": 1,
   "id": "b501476c",
   "metadata": {},
   "outputs": [],
   "source": [
    "import cv2\n",
    "import os"
   ]
  },
  {
   "cell_type": "code",
   "execution_count": 2,
   "id": "c793db05",
   "metadata": {},
   "outputs": [],
   "source": [
    "cam = cv2.VideoCapture(0)"
   ]
  },
  {
   "cell_type": "code",
   "execution_count": 3,
   "id": "4195bb72",
   "metadata": {},
   "outputs": [],
   "source": [
    "output_directory = \"../images/cam_pictures\"\n",
    "os.makedirs(output_directory, exist_ok=True)"
   ]
  },
  {
   "cell_type": "code",
   "execution_count": 4,
   "id": "f89a5257",
   "metadata": {},
   "outputs": [],
   "source": [
    "existing_images = os.listdir(output_directory)\n",
    "img_counter = len(existing_images)"
   ]
  },
  {
   "cell_type": "code",
   "execution_count": 5,
   "id": "99c56e0d",
   "metadata": {},
   "outputs": [
    {
     "data": {
      "text/plain": [
       "11"
      ]
     },
     "execution_count": 5,
     "metadata": {},
     "output_type": "execute_result"
    }
   ],
   "source": [
    "img_counter"
   ]
  },
  {
   "cell_type": "code",
   "execution_count": 6,
   "id": "e800a7e6",
   "metadata": {},
   "outputs": [
    {
     "name": "stdout",
     "output_type": "stream",
     "text": [
      "Imagen guardada en: ../images/cam_pictures/selfie_11.png\n",
      "Saliendo del programa\n"
     ]
    }
   ],
   "source": [
    "while True:\n",
    "    # capture the frame of the camera\n",
    "    ret, frame = cam.read()\n",
    "\n",
    "    # verify if the frame is captured\n",
    "    if not ret:\n",
    "        print('Error al capturar el frame')\n",
    "        break\n",
    "\n",
    "    # show frame in a window\n",
    "    cv2.imshow('Smile and take your best selfie!!!!', frame)\n",
    "\n",
    "    # Esperar a que se presione una tecla\n",
    "    key = cv2.waitKey(1)\n",
    "\n",
    "    # press 'spacebar' to take a pic\n",
    "    if key == 32:\n",
    "        # name of pic\n",
    "        img_name = f'selfie_{img_counter}.png'\n",
    "        img_path = os.path.join(output_directory, img_name)\n",
    "\n",
    "        # save pic\n",
    "        cv2.imwrite(img_path, frame)\n",
    "        print(f'Imagen guardada en: {img_path}')\n",
    "\n",
    "        # counter increase\n",
    "        img_counter += 1\n",
    "\n",
    "    # press 'q' to exit the loop\n",
    "    if key == ord('q'):\n",
    "        print('Saliendo del programa')\n",
    "        break\n",
    "\n",
    "# close camera\n",
    "cam.release()\n",
    "\n",
    "# close opencv windows\n",
    "cv2.destroyAllWindows()"
   ]
  },
  {
   "cell_type": "code",
   "execution_count": 20,
   "id": "9d70dd41",
   "metadata": {},
   "outputs": [],
   "source": [
    "content_name = f'selfie_{img_counter-1}.png'"
   ]
  },
  {
   "cell_type": "code",
   "execution_count": 22,
   "id": "5e0b725b",
   "metadata": {},
   "outputs": [
    {
     "data": {
      "text/plain": [
       "'selfie_9.png'"
      ]
     },
     "execution_count": 22,
     "metadata": {},
     "output_type": "execute_result"
    }
   ],
   "source": [
    "content_name"
   ]
  },
  {
   "cell_type": "code",
   "execution_count": null,
   "id": "715dc51c",
   "metadata": {},
   "outputs": [],
   "source": []
  }
 ],
 "metadata": {
  "kernelspec": {
   "display_name": "opencv",
   "language": "python",
   "name": "opencv"
  },
  "language_info": {
   "codemirror_mode": {
    "name": "ipython",
    "version": 3
   },
   "file_extension": ".py",
   "mimetype": "text/x-python",
   "name": "python",
   "nbconvert_exporter": "python",
   "pygments_lexer": "ipython3",
   "version": "3.11.3"
  },
  "toc": {
   "base_numbering": 1,
   "nav_menu": {},
   "number_sections": true,
   "sideBar": true,
   "skip_h1_title": false,
   "title_cell": "Table of Contents",
   "title_sidebar": "Contents",
   "toc_cell": false,
   "toc_position": {},
   "toc_section_display": true,
   "toc_window_display": false
  }
 },
 "nbformat": 4,
 "nbformat_minor": 5
}
